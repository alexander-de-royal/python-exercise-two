{
 "cells": [
  {
   "cell_type": "code",
   "execution_count": 1,
   "metadata": {
    "collapsed": true,
    "ExecuteTime": {
     "end_time": "2025-08-30T18:33:22.743078Z",
     "start_time": "2025-08-30T18:33:21.641978Z"
    }
   },
   "outputs": [],
   "source": [
    "import pandas as pd"
   ]
  },
  {
   "cell_type": "code",
   "execution_count": 5,
   "outputs": [],
   "source": [
    "bestsellers = pd.read_csv(\"../../colt-data/data/bestsellers.csv\")"
   ],
   "metadata": {
    "collapsed": false,
    "ExecuteTime": {
     "end_time": "2025-08-30T18:37:40.875788Z",
     "start_time": "2025-08-30T18:37:40.870852Z"
    }
   }
  },
  {
   "cell_type": "code",
   "execution_count": 6,
   "outputs": [
    {
     "name": "stdout",
     "output_type": "stream",
     "text": [
      "<class 'pandas.core.frame.DataFrame'>\n",
      "RangeIndex: 550 entries, 0 to 549\n",
      "Data columns (total 7 columns):\n",
      " #   Column       Non-Null Count  Dtype  \n",
      "---  ------       --------------  -----  \n",
      " 0   Name         550 non-null    object \n",
      " 1   Author       550 non-null    object \n",
      " 2   User Rating  550 non-null    float64\n",
      " 3   Reviews      550 non-null    int64  \n",
      " 4   Price        550 non-null    int64  \n",
      " 5   Year         550 non-null    int64  \n",
      " 6   Genre        550 non-null    object \n",
      "dtypes: float64(1), int64(3), object(3)\n",
      "memory usage: 30.2+ KB\n"
     ]
    }
   ],
   "source": [
    "bestsellers.info()"
   ],
   "metadata": {
    "collapsed": false,
    "ExecuteTime": {
     "end_time": "2025-08-30T18:37:49.714713Z",
     "start_time": "2025-08-30T18:37:49.710474Z"
    }
   }
  },
  {
   "cell_type": "code",
   "execution_count": 7,
   "outputs": [
    {
     "data": {
      "text/plain": "                                                  Name  \\\n0                        10-Day Green Smoothie Cleanse   \n1                                    11/22/63: A Novel   \n2              12 Rules for Life: An Antidote to Chaos   \n3                               1984 (Signet Classics)   \n4    5,000 Awesome Facts (About Everything!) (Natio...   \n..                                                 ...   \n545       Wrecking Ball (Diary of a Wimpy Kid Book 14)   \n546  You Are a Badass: How to Stop Doubting Your Gr...   \n547  You Are a Badass: How to Stop Doubting Your Gr...   \n548  You Are a Badass: How to Stop Doubting Your Gr...   \n549  You Are a Badass: How to Stop Doubting Your Gr...   \n\n                       Author  User Rating  Reviews  Price  Year        Genre  \n0                    JJ Smith          4.7    17350      8  2016  Non Fiction  \n1                Stephen King          4.6     2052     22  2011      Fiction  \n2          Jordan B. Peterson          4.7    18979     15  2018  Non Fiction  \n3               George Orwell          4.7    21424      6  2017      Fiction  \n4    National Geographic Kids          4.8     7665     12  2019  Non Fiction  \n..                        ...          ...      ...    ...   ...          ...  \n545               Jeff Kinney          4.9     9413      8  2019      Fiction  \n546               Jen Sincero          4.7    14331      8  2016  Non Fiction  \n547               Jen Sincero          4.7    14331      8  2017  Non Fiction  \n548               Jen Sincero          4.7    14331      8  2018  Non Fiction  \n549               Jen Sincero          4.7    14331      8  2019  Non Fiction  \n\n[550 rows x 7 columns]",
      "text/html": "<div>\n<style scoped>\n    .dataframe tbody tr th:only-of-type {\n        vertical-align: middle;\n    }\n\n    .dataframe tbody tr th {\n        vertical-align: top;\n    }\n\n    .dataframe thead th {\n        text-align: right;\n    }\n</style>\n<table border=\"1\" class=\"dataframe\">\n  <thead>\n    <tr style=\"text-align: right;\">\n      <th></th>\n      <th>Name</th>\n      <th>Author</th>\n      <th>User Rating</th>\n      <th>Reviews</th>\n      <th>Price</th>\n      <th>Year</th>\n      <th>Genre</th>\n    </tr>\n  </thead>\n  <tbody>\n    <tr>\n      <th>0</th>\n      <td>10-Day Green Smoothie Cleanse</td>\n      <td>JJ Smith</td>\n      <td>4.7</td>\n      <td>17350</td>\n      <td>8</td>\n      <td>2016</td>\n      <td>Non Fiction</td>\n    </tr>\n    <tr>\n      <th>1</th>\n      <td>11/22/63: A Novel</td>\n      <td>Stephen King</td>\n      <td>4.6</td>\n      <td>2052</td>\n      <td>22</td>\n      <td>2011</td>\n      <td>Fiction</td>\n    </tr>\n    <tr>\n      <th>2</th>\n      <td>12 Rules for Life: An Antidote to Chaos</td>\n      <td>Jordan B. Peterson</td>\n      <td>4.7</td>\n      <td>18979</td>\n      <td>15</td>\n      <td>2018</td>\n      <td>Non Fiction</td>\n    </tr>\n    <tr>\n      <th>3</th>\n      <td>1984 (Signet Classics)</td>\n      <td>George Orwell</td>\n      <td>4.7</td>\n      <td>21424</td>\n      <td>6</td>\n      <td>2017</td>\n      <td>Fiction</td>\n    </tr>\n    <tr>\n      <th>4</th>\n      <td>5,000 Awesome Facts (About Everything!) (Natio...</td>\n      <td>National Geographic Kids</td>\n      <td>4.8</td>\n      <td>7665</td>\n      <td>12</td>\n      <td>2019</td>\n      <td>Non Fiction</td>\n    </tr>\n    <tr>\n      <th>...</th>\n      <td>...</td>\n      <td>...</td>\n      <td>...</td>\n      <td>...</td>\n      <td>...</td>\n      <td>...</td>\n      <td>...</td>\n    </tr>\n    <tr>\n      <th>545</th>\n      <td>Wrecking Ball (Diary of a Wimpy Kid Book 14)</td>\n      <td>Jeff Kinney</td>\n      <td>4.9</td>\n      <td>9413</td>\n      <td>8</td>\n      <td>2019</td>\n      <td>Fiction</td>\n    </tr>\n    <tr>\n      <th>546</th>\n      <td>You Are a Badass: How to Stop Doubting Your Gr...</td>\n      <td>Jen Sincero</td>\n      <td>4.7</td>\n      <td>14331</td>\n      <td>8</td>\n      <td>2016</td>\n      <td>Non Fiction</td>\n    </tr>\n    <tr>\n      <th>547</th>\n      <td>You Are a Badass: How to Stop Doubting Your Gr...</td>\n      <td>Jen Sincero</td>\n      <td>4.7</td>\n      <td>14331</td>\n      <td>8</td>\n      <td>2017</td>\n      <td>Non Fiction</td>\n    </tr>\n    <tr>\n      <th>548</th>\n      <td>You Are a Badass: How to Stop Doubting Your Gr...</td>\n      <td>Jen Sincero</td>\n      <td>4.7</td>\n      <td>14331</td>\n      <td>8</td>\n      <td>2018</td>\n      <td>Non Fiction</td>\n    </tr>\n    <tr>\n      <th>549</th>\n      <td>You Are a Badass: How to Stop Doubting Your Gr...</td>\n      <td>Jen Sincero</td>\n      <td>4.7</td>\n      <td>14331</td>\n      <td>8</td>\n      <td>2019</td>\n      <td>Non Fiction</td>\n    </tr>\n  </tbody>\n</table>\n<p>550 rows × 7 columns</p>\n</div>"
     },
     "execution_count": 7,
     "metadata": {},
     "output_type": "execute_result"
    }
   ],
   "source": [
    "bestsellers"
   ],
   "metadata": {
    "collapsed": false,
    "ExecuteTime": {
     "end_time": "2025-08-30T18:38:01.450866Z",
     "start_time": "2025-08-30T18:38:01.448201Z"
    }
   }
  },
  {
   "cell_type": "code",
   "execution_count": 8,
   "outputs": [
    {
     "data": {
      "text/plain": "(550, 7)"
     },
     "execution_count": 8,
     "metadata": {},
     "output_type": "execute_result"
    }
   ],
   "source": [
    "bestsellers.shape"
   ],
   "metadata": {
    "collapsed": false,
    "ExecuteTime": {
     "end_time": "2025-08-30T18:38:06.607973Z",
     "start_time": "2025-08-30T18:38:06.571429Z"
    }
   }
  },
  {
   "cell_type": "code",
   "execution_count": 9,
   "outputs": [
    {
     "data": {
      "text/plain": "                                                Name  \\\n0                      10-Day Green Smoothie Cleanse   \n1                                  11/22/63: A Novel   \n2            12 Rules for Life: An Antidote to Chaos   \n3                             1984 (Signet Classics)   \n4  5,000 Awesome Facts (About Everything!) (Natio...   \n\n                     Author  User Rating  Reviews  Price  Year        Genre  \n0                  JJ Smith          4.7    17350      8  2016  Non Fiction  \n1              Stephen King          4.6     2052     22  2011      Fiction  \n2        Jordan B. Peterson          4.7    18979     15  2018  Non Fiction  \n3             George Orwell          4.7    21424      6  2017      Fiction  \n4  National Geographic Kids          4.8     7665     12  2019  Non Fiction  ",
      "text/html": "<div>\n<style scoped>\n    .dataframe tbody tr th:only-of-type {\n        vertical-align: middle;\n    }\n\n    .dataframe tbody tr th {\n        vertical-align: top;\n    }\n\n    .dataframe thead th {\n        text-align: right;\n    }\n</style>\n<table border=\"1\" class=\"dataframe\">\n  <thead>\n    <tr style=\"text-align: right;\">\n      <th></th>\n      <th>Name</th>\n      <th>Author</th>\n      <th>User Rating</th>\n      <th>Reviews</th>\n      <th>Price</th>\n      <th>Year</th>\n      <th>Genre</th>\n    </tr>\n  </thead>\n  <tbody>\n    <tr>\n      <th>0</th>\n      <td>10-Day Green Smoothie Cleanse</td>\n      <td>JJ Smith</td>\n      <td>4.7</td>\n      <td>17350</td>\n      <td>8</td>\n      <td>2016</td>\n      <td>Non Fiction</td>\n    </tr>\n    <tr>\n      <th>1</th>\n      <td>11/22/63: A Novel</td>\n      <td>Stephen King</td>\n      <td>4.6</td>\n      <td>2052</td>\n      <td>22</td>\n      <td>2011</td>\n      <td>Fiction</td>\n    </tr>\n    <tr>\n      <th>2</th>\n      <td>12 Rules for Life: An Antidote to Chaos</td>\n      <td>Jordan B. Peterson</td>\n      <td>4.7</td>\n      <td>18979</td>\n      <td>15</td>\n      <td>2018</td>\n      <td>Non Fiction</td>\n    </tr>\n    <tr>\n      <th>3</th>\n      <td>1984 (Signet Classics)</td>\n      <td>George Orwell</td>\n      <td>4.7</td>\n      <td>21424</td>\n      <td>6</td>\n      <td>2017</td>\n      <td>Fiction</td>\n    </tr>\n    <tr>\n      <th>4</th>\n      <td>5,000 Awesome Facts (About Everything!) (Natio...</td>\n      <td>National Geographic Kids</td>\n      <td>4.8</td>\n      <td>7665</td>\n      <td>12</td>\n      <td>2019</td>\n      <td>Non Fiction</td>\n    </tr>\n  </tbody>\n</table>\n</div>"
     },
     "execution_count": 9,
     "metadata": {},
     "output_type": "execute_result"
    }
   ],
   "source": [
    "bestsellers.head()"
   ],
   "metadata": {
    "collapsed": false,
    "ExecuteTime": {
     "end_time": "2025-08-30T18:38:16.433966Z",
     "start_time": "2025-08-30T18:38:16.429523Z"
    }
   }
  },
  {
   "cell_type": "code",
   "execution_count": 10,
   "outputs": [
    {
     "data": {
      "text/plain": "                                                  Name       Author  \\\n545       Wrecking Ball (Diary of a Wimpy Kid Book 14)  Jeff Kinney   \n546  You Are a Badass: How to Stop Doubting Your Gr...  Jen Sincero   \n547  You Are a Badass: How to Stop Doubting Your Gr...  Jen Sincero   \n548  You Are a Badass: How to Stop Doubting Your Gr...  Jen Sincero   \n549  You Are a Badass: How to Stop Doubting Your Gr...  Jen Sincero   \n\n     User Rating  Reviews  Price  Year        Genre  \n545          4.9     9413      8  2019      Fiction  \n546          4.7    14331      8  2016  Non Fiction  \n547          4.7    14331      8  2017  Non Fiction  \n548          4.7    14331      8  2018  Non Fiction  \n549          4.7    14331      8  2019  Non Fiction  ",
      "text/html": "<div>\n<style scoped>\n    .dataframe tbody tr th:only-of-type {\n        vertical-align: middle;\n    }\n\n    .dataframe tbody tr th {\n        vertical-align: top;\n    }\n\n    .dataframe thead th {\n        text-align: right;\n    }\n</style>\n<table border=\"1\" class=\"dataframe\">\n  <thead>\n    <tr style=\"text-align: right;\">\n      <th></th>\n      <th>Name</th>\n      <th>Author</th>\n      <th>User Rating</th>\n      <th>Reviews</th>\n      <th>Price</th>\n      <th>Year</th>\n      <th>Genre</th>\n    </tr>\n  </thead>\n  <tbody>\n    <tr>\n      <th>545</th>\n      <td>Wrecking Ball (Diary of a Wimpy Kid Book 14)</td>\n      <td>Jeff Kinney</td>\n      <td>4.9</td>\n      <td>9413</td>\n      <td>8</td>\n      <td>2019</td>\n      <td>Fiction</td>\n    </tr>\n    <tr>\n      <th>546</th>\n      <td>You Are a Badass: How to Stop Doubting Your Gr...</td>\n      <td>Jen Sincero</td>\n      <td>4.7</td>\n      <td>14331</td>\n      <td>8</td>\n      <td>2016</td>\n      <td>Non Fiction</td>\n    </tr>\n    <tr>\n      <th>547</th>\n      <td>You Are a Badass: How to Stop Doubting Your Gr...</td>\n      <td>Jen Sincero</td>\n      <td>4.7</td>\n      <td>14331</td>\n      <td>8</td>\n      <td>2017</td>\n      <td>Non Fiction</td>\n    </tr>\n    <tr>\n      <th>548</th>\n      <td>You Are a Badass: How to Stop Doubting Your Gr...</td>\n      <td>Jen Sincero</td>\n      <td>4.7</td>\n      <td>14331</td>\n      <td>8</td>\n      <td>2018</td>\n      <td>Non Fiction</td>\n    </tr>\n    <tr>\n      <th>549</th>\n      <td>You Are a Badass: How to Stop Doubting Your Gr...</td>\n      <td>Jen Sincero</td>\n      <td>4.7</td>\n      <td>14331</td>\n      <td>8</td>\n      <td>2019</td>\n      <td>Non Fiction</td>\n    </tr>\n  </tbody>\n</table>\n</div>"
     },
     "execution_count": 10,
     "metadata": {},
     "output_type": "execute_result"
    }
   ],
   "source": [
    "bestsellers.tail()"
   ],
   "metadata": {
    "collapsed": false,
    "ExecuteTime": {
     "end_time": "2025-08-30T18:38:29.124459Z",
     "start_time": "2025-08-30T18:38:29.120792Z"
    }
   }
  },
  {
   "cell_type": "code",
   "execution_count": 11,
   "outputs": [
    {
     "data": {
      "text/plain": "                                                 Name  \\\n0                       10-Day Green Smoothie Cleanse   \n1                                   11/22/63: A Novel   \n2             12 Rules for Life: An Antidote to Chaos   \n3                              1984 (Signet Classics)   \n4   5,000 Awesome Facts (About Everything!) (Natio...   \n5       A Dance with Dragons (A Song of Ice and Fire)   \n6   A Game of Thrones / A Clash of Kings / A Storm...   \n7                      A Gentleman in Moscow: A Novel   \n8       A Higher Loyalty: Truth, Lies, and Leadership   \n9                           A Man Called Ove: A Novel   \n10                          A Man Called Ove: A Novel   \n11  A Patriot's History of the United States: From...   \n12                            A Stolen Life: A Memoir   \n13                   A Wrinkle in Time (Time Quintet)   \n14  Act Like a Lady, Think Like a Man: What Men Re...   \n15  Adult Coloring Book Designs: Stress Relief Col...   \n16  Adult Coloring Book: Stress Relieving Animal D...   \n17     Adult Coloring Book: Stress Relieving Patterns   \n18  Adult Coloring Books: A Coloring Book for Adul...   \n\n                         Author  User Rating  Reviews  Price  Year  \\\n0                      JJ Smith          4.7    17350      8  2016   \n1                  Stephen King          4.6     2052     22  2011   \n2            Jordan B. Peterson          4.7    18979     15  2018   \n3                 George Orwell          4.7    21424      6  2017   \n4      National Geographic Kids          4.8     7665     12  2019   \n5           George R. R. Martin          4.4    12643     11  2011   \n6           George R. R. Martin          4.7    19735     30  2014   \n7                   Amor Towles          4.7    19699     15  2017   \n8                   James Comey          4.7     5983      3  2018   \n9               Fredrik Backman          4.6    23848      8  2016   \n10              Fredrik Backman          4.6    23848      8  2017   \n11             Larry Schweikart          4.6      460      2  2010   \n12                Jaycee Dugard          4.6     4149     32  2011   \n13            Madeleine L'Engle          4.5     5153      5  2018   \n14                 Steve Harvey          4.6     5013     17  2009   \n15  Adult Coloring Book Designs          4.5     2313      4  2016   \n16           Blue Star Coloring          4.6     2925      6  2015   \n17           Blue Star Coloring          4.4     2951      6  2015   \n18    Coloring Books for Adults          4.5     2426      8  2015   \n\n          Genre  \n0   Non Fiction  \n1       Fiction  \n2   Non Fiction  \n3       Fiction  \n4   Non Fiction  \n5       Fiction  \n6       Fiction  \n7       Fiction  \n8   Non Fiction  \n9       Fiction  \n10      Fiction  \n11  Non Fiction  \n12  Non Fiction  \n13      Fiction  \n14  Non Fiction  \n15  Non Fiction  \n16  Non Fiction  \n17  Non Fiction  \n18  Non Fiction  ",
      "text/html": "<div>\n<style scoped>\n    .dataframe tbody tr th:only-of-type {\n        vertical-align: middle;\n    }\n\n    .dataframe tbody tr th {\n        vertical-align: top;\n    }\n\n    .dataframe thead th {\n        text-align: right;\n    }\n</style>\n<table border=\"1\" class=\"dataframe\">\n  <thead>\n    <tr style=\"text-align: right;\">\n      <th></th>\n      <th>Name</th>\n      <th>Author</th>\n      <th>User Rating</th>\n      <th>Reviews</th>\n      <th>Price</th>\n      <th>Year</th>\n      <th>Genre</th>\n    </tr>\n  </thead>\n  <tbody>\n    <tr>\n      <th>0</th>\n      <td>10-Day Green Smoothie Cleanse</td>\n      <td>JJ Smith</td>\n      <td>4.7</td>\n      <td>17350</td>\n      <td>8</td>\n      <td>2016</td>\n      <td>Non Fiction</td>\n    </tr>\n    <tr>\n      <th>1</th>\n      <td>11/22/63: A Novel</td>\n      <td>Stephen King</td>\n      <td>4.6</td>\n      <td>2052</td>\n      <td>22</td>\n      <td>2011</td>\n      <td>Fiction</td>\n    </tr>\n    <tr>\n      <th>2</th>\n      <td>12 Rules for Life: An Antidote to Chaos</td>\n      <td>Jordan B. Peterson</td>\n      <td>4.7</td>\n      <td>18979</td>\n      <td>15</td>\n      <td>2018</td>\n      <td>Non Fiction</td>\n    </tr>\n    <tr>\n      <th>3</th>\n      <td>1984 (Signet Classics)</td>\n      <td>George Orwell</td>\n      <td>4.7</td>\n      <td>21424</td>\n      <td>6</td>\n      <td>2017</td>\n      <td>Fiction</td>\n    </tr>\n    <tr>\n      <th>4</th>\n      <td>5,000 Awesome Facts (About Everything!) (Natio...</td>\n      <td>National Geographic Kids</td>\n      <td>4.8</td>\n      <td>7665</td>\n      <td>12</td>\n      <td>2019</td>\n      <td>Non Fiction</td>\n    </tr>\n    <tr>\n      <th>5</th>\n      <td>A Dance with Dragons (A Song of Ice and Fire)</td>\n      <td>George R. R. Martin</td>\n      <td>4.4</td>\n      <td>12643</td>\n      <td>11</td>\n      <td>2011</td>\n      <td>Fiction</td>\n    </tr>\n    <tr>\n      <th>6</th>\n      <td>A Game of Thrones / A Clash of Kings / A Storm...</td>\n      <td>George R. R. Martin</td>\n      <td>4.7</td>\n      <td>19735</td>\n      <td>30</td>\n      <td>2014</td>\n      <td>Fiction</td>\n    </tr>\n    <tr>\n      <th>7</th>\n      <td>A Gentleman in Moscow: A Novel</td>\n      <td>Amor Towles</td>\n      <td>4.7</td>\n      <td>19699</td>\n      <td>15</td>\n      <td>2017</td>\n      <td>Fiction</td>\n    </tr>\n    <tr>\n      <th>8</th>\n      <td>A Higher Loyalty: Truth, Lies, and Leadership</td>\n      <td>James Comey</td>\n      <td>4.7</td>\n      <td>5983</td>\n      <td>3</td>\n      <td>2018</td>\n      <td>Non Fiction</td>\n    </tr>\n    <tr>\n      <th>9</th>\n      <td>A Man Called Ove: A Novel</td>\n      <td>Fredrik Backman</td>\n      <td>4.6</td>\n      <td>23848</td>\n      <td>8</td>\n      <td>2016</td>\n      <td>Fiction</td>\n    </tr>\n    <tr>\n      <th>10</th>\n      <td>A Man Called Ove: A Novel</td>\n      <td>Fredrik Backman</td>\n      <td>4.6</td>\n      <td>23848</td>\n      <td>8</td>\n      <td>2017</td>\n      <td>Fiction</td>\n    </tr>\n    <tr>\n      <th>11</th>\n      <td>A Patriot's History of the United States: From...</td>\n      <td>Larry Schweikart</td>\n      <td>4.6</td>\n      <td>460</td>\n      <td>2</td>\n      <td>2010</td>\n      <td>Non Fiction</td>\n    </tr>\n    <tr>\n      <th>12</th>\n      <td>A Stolen Life: A Memoir</td>\n      <td>Jaycee Dugard</td>\n      <td>4.6</td>\n      <td>4149</td>\n      <td>32</td>\n      <td>2011</td>\n      <td>Non Fiction</td>\n    </tr>\n    <tr>\n      <th>13</th>\n      <td>A Wrinkle in Time (Time Quintet)</td>\n      <td>Madeleine L'Engle</td>\n      <td>4.5</td>\n      <td>5153</td>\n      <td>5</td>\n      <td>2018</td>\n      <td>Fiction</td>\n    </tr>\n    <tr>\n      <th>14</th>\n      <td>Act Like a Lady, Think Like a Man: What Men Re...</td>\n      <td>Steve Harvey</td>\n      <td>4.6</td>\n      <td>5013</td>\n      <td>17</td>\n      <td>2009</td>\n      <td>Non Fiction</td>\n    </tr>\n    <tr>\n      <th>15</th>\n      <td>Adult Coloring Book Designs: Stress Relief Col...</td>\n      <td>Adult Coloring Book Designs</td>\n      <td>4.5</td>\n      <td>2313</td>\n      <td>4</td>\n      <td>2016</td>\n      <td>Non Fiction</td>\n    </tr>\n    <tr>\n      <th>16</th>\n      <td>Adult Coloring Book: Stress Relieving Animal D...</td>\n      <td>Blue Star Coloring</td>\n      <td>4.6</td>\n      <td>2925</td>\n      <td>6</td>\n      <td>2015</td>\n      <td>Non Fiction</td>\n    </tr>\n    <tr>\n      <th>17</th>\n      <td>Adult Coloring Book: Stress Relieving Patterns</td>\n      <td>Blue Star Coloring</td>\n      <td>4.4</td>\n      <td>2951</td>\n      <td>6</td>\n      <td>2015</td>\n      <td>Non Fiction</td>\n    </tr>\n    <tr>\n      <th>18</th>\n      <td>Adult Coloring Books: A Coloring Book for Adul...</td>\n      <td>Coloring Books for Adults</td>\n      <td>4.5</td>\n      <td>2426</td>\n      <td>8</td>\n      <td>2015</td>\n      <td>Non Fiction</td>\n    </tr>\n  </tbody>\n</table>\n</div>"
     },
     "execution_count": 11,
     "metadata": {},
     "output_type": "execute_result"
    }
   ],
   "source": [
    "bestsellers.head(19)"
   ],
   "metadata": {
    "collapsed": false,
    "ExecuteTime": {
     "end_time": "2025-08-30T18:38:36.663682Z",
     "start_time": "2025-08-30T18:38:36.660658Z"
    }
   }
  },
  {
   "cell_type": "code",
   "execution_count": 12,
   "outputs": [
    {
     "data": {
      "text/plain": "                                                  Name         Author  \\\n541                                             Wonder  R. J. Palacio   \n542                                             Wonder  R. J. Palacio   \n543                                             Wonder  R. J. Palacio   \n544                                             Wonder  R. J. Palacio   \n545       Wrecking Ball (Diary of a Wimpy Kid Book 14)    Jeff Kinney   \n546  You Are a Badass: How to Stop Doubting Your Gr...    Jen Sincero   \n547  You Are a Badass: How to Stop Doubting Your Gr...    Jen Sincero   \n548  You Are a Badass: How to Stop Doubting Your Gr...    Jen Sincero   \n549  You Are a Badass: How to Stop Doubting Your Gr...    Jen Sincero   \n\n     User Rating  Reviews  Price  Year        Genre  \n541          4.8    21625      9  2014      Fiction  \n542          4.8    21625      9  2015      Fiction  \n543          4.8    21625      9  2016      Fiction  \n544          4.8    21625      9  2017      Fiction  \n545          4.9     9413      8  2019      Fiction  \n546          4.7    14331      8  2016  Non Fiction  \n547          4.7    14331      8  2017  Non Fiction  \n548          4.7    14331      8  2018  Non Fiction  \n549          4.7    14331      8  2019  Non Fiction  ",
      "text/html": "<div>\n<style scoped>\n    .dataframe tbody tr th:only-of-type {\n        vertical-align: middle;\n    }\n\n    .dataframe tbody tr th {\n        vertical-align: top;\n    }\n\n    .dataframe thead th {\n        text-align: right;\n    }\n</style>\n<table border=\"1\" class=\"dataframe\">\n  <thead>\n    <tr style=\"text-align: right;\">\n      <th></th>\n      <th>Name</th>\n      <th>Author</th>\n      <th>User Rating</th>\n      <th>Reviews</th>\n      <th>Price</th>\n      <th>Year</th>\n      <th>Genre</th>\n    </tr>\n  </thead>\n  <tbody>\n    <tr>\n      <th>541</th>\n      <td>Wonder</td>\n      <td>R. J. Palacio</td>\n      <td>4.8</td>\n      <td>21625</td>\n      <td>9</td>\n      <td>2014</td>\n      <td>Fiction</td>\n    </tr>\n    <tr>\n      <th>542</th>\n      <td>Wonder</td>\n      <td>R. J. Palacio</td>\n      <td>4.8</td>\n      <td>21625</td>\n      <td>9</td>\n      <td>2015</td>\n      <td>Fiction</td>\n    </tr>\n    <tr>\n      <th>543</th>\n      <td>Wonder</td>\n      <td>R. J. Palacio</td>\n      <td>4.8</td>\n      <td>21625</td>\n      <td>9</td>\n      <td>2016</td>\n      <td>Fiction</td>\n    </tr>\n    <tr>\n      <th>544</th>\n      <td>Wonder</td>\n      <td>R. J. Palacio</td>\n      <td>4.8</td>\n      <td>21625</td>\n      <td>9</td>\n      <td>2017</td>\n      <td>Fiction</td>\n    </tr>\n    <tr>\n      <th>545</th>\n      <td>Wrecking Ball (Diary of a Wimpy Kid Book 14)</td>\n      <td>Jeff Kinney</td>\n      <td>4.9</td>\n      <td>9413</td>\n      <td>8</td>\n      <td>2019</td>\n      <td>Fiction</td>\n    </tr>\n    <tr>\n      <th>546</th>\n      <td>You Are a Badass: How to Stop Doubting Your Gr...</td>\n      <td>Jen Sincero</td>\n      <td>4.7</td>\n      <td>14331</td>\n      <td>8</td>\n      <td>2016</td>\n      <td>Non Fiction</td>\n    </tr>\n    <tr>\n      <th>547</th>\n      <td>You Are a Badass: How to Stop Doubting Your Gr...</td>\n      <td>Jen Sincero</td>\n      <td>4.7</td>\n      <td>14331</td>\n      <td>8</td>\n      <td>2017</td>\n      <td>Non Fiction</td>\n    </tr>\n    <tr>\n      <th>548</th>\n      <td>You Are a Badass: How to Stop Doubting Your Gr...</td>\n      <td>Jen Sincero</td>\n      <td>4.7</td>\n      <td>14331</td>\n      <td>8</td>\n      <td>2018</td>\n      <td>Non Fiction</td>\n    </tr>\n    <tr>\n      <th>549</th>\n      <td>You Are a Badass: How to Stop Doubting Your Gr...</td>\n      <td>Jen Sincero</td>\n      <td>4.7</td>\n      <td>14331</td>\n      <td>8</td>\n      <td>2019</td>\n      <td>Non Fiction</td>\n    </tr>\n  </tbody>\n</table>\n</div>"
     },
     "execution_count": 12,
     "metadata": {},
     "output_type": "execute_result"
    }
   ],
   "source": [
    "bestsellers.tail(9)"
   ],
   "metadata": {
    "collapsed": false,
    "ExecuteTime": {
     "end_time": "2025-08-30T18:39:04.082411Z",
     "start_time": "2025-08-30T18:39:04.077699Z"
    }
   }
  },
  {
   "cell_type": "code",
   "execution_count": 13,
   "outputs": [],
   "source": [
    "mount = pd.read_csv(\"../../colt-data/data/mount_everest_deaths.csv\", index_col=0)"
   ],
   "metadata": {
    "collapsed": false,
    "ExecuteTime": {
     "end_time": "2025-08-30T18:42:04.805509Z",
     "start_time": "2025-08-30T18:42:04.796751Z"
    }
   }
  },
  {
   "cell_type": "code",
   "execution_count": 14,
   "outputs": [
    {
     "data": {
      "text/plain": "                       Name          Date   Age  \\\nNo.                                               \n1                     Dorje  June 7, 1922   NaN   \n2                    Lhakpa  June 7, 1922   NaN   \n3                     Norbu  June 7, 1922   NaN   \n4                    Pasang  June 7, 1922   NaN   \n5                      Pema  June 7, 1922   NaN   \n..                      ...           ...   ...   \n306  Christopher Jon Kulish  May 27, 2019  62.0   \n307               Puwei Liu  May 12, 2021  55.0   \n308           Abdul Waraich  May 12, 2021  41.0   \n309      Pemba Tashi Sherpa  May 18, 2021  28.0   \n310      Wong Dorchi Sherpa  May 23, 2021   NaN   \n\n                                Expedition    Nationality  \\\nNo.                                                         \n1    1922 British Mount Everest Expedition          Nepal   \n2    1922 British Mount Everest Expedition          Nepal   \n3    1922 British Mount Everest Expedition          Nepal   \n4    1922 British Mount Everest Expedition          Nepal   \n5    1922 British Mount Everest Expedition          Nepal   \n..                                     ...            ...   \n306             Climbing the Seven Summits  United States   \n307                     Seven Summit Treks  United States   \n308                     Seven Summit Treks    Switzerland   \n309             Climbing the Seven Summits          Nepal   \n310                         7 Summits Club          Nepal   \n\n                   Cause of death                  Location  \nNo.                                                          \n1                       Avalanche           Below North Col  \n2                       Avalanche           Below North Col  \n3                       Avalanche           Below North Col  \n4                       Avalanche           Below North Col  \n5                       Avalanche           Below North Col  \n..                            ...                       ...  \n306  Cardiac event during descent                 South Col  \n307                    Exhaustion         Near South Summit  \n308                    Exhaustion         Near South Summit  \n309          Fall into a crevasse  Between Camp I & Camp II  \n310                           NaN            near South Col  \n\n[310 rows x 7 columns]",
      "text/html": "<div>\n<style scoped>\n    .dataframe tbody tr th:only-of-type {\n        vertical-align: middle;\n    }\n\n    .dataframe tbody tr th {\n        vertical-align: top;\n    }\n\n    .dataframe thead th {\n        text-align: right;\n    }\n</style>\n<table border=\"1\" class=\"dataframe\">\n  <thead>\n    <tr style=\"text-align: right;\">\n      <th></th>\n      <th>Name</th>\n      <th>Date</th>\n      <th>Age</th>\n      <th>Expedition</th>\n      <th>Nationality</th>\n      <th>Cause of death</th>\n      <th>Location</th>\n    </tr>\n    <tr>\n      <th>No.</th>\n      <th></th>\n      <th></th>\n      <th></th>\n      <th></th>\n      <th></th>\n      <th></th>\n      <th></th>\n    </tr>\n  </thead>\n  <tbody>\n    <tr>\n      <th>1</th>\n      <td>Dorje</td>\n      <td>June 7, 1922</td>\n      <td>NaN</td>\n      <td>1922 British Mount Everest Expedition</td>\n      <td>Nepal</td>\n      <td>Avalanche</td>\n      <td>Below North Col</td>\n    </tr>\n    <tr>\n      <th>2</th>\n      <td>Lhakpa</td>\n      <td>June 7, 1922</td>\n      <td>NaN</td>\n      <td>1922 British Mount Everest Expedition</td>\n      <td>Nepal</td>\n      <td>Avalanche</td>\n      <td>Below North Col</td>\n    </tr>\n    <tr>\n      <th>3</th>\n      <td>Norbu</td>\n      <td>June 7, 1922</td>\n      <td>NaN</td>\n      <td>1922 British Mount Everest Expedition</td>\n      <td>Nepal</td>\n      <td>Avalanche</td>\n      <td>Below North Col</td>\n    </tr>\n    <tr>\n      <th>4</th>\n      <td>Pasang</td>\n      <td>June 7, 1922</td>\n      <td>NaN</td>\n      <td>1922 British Mount Everest Expedition</td>\n      <td>Nepal</td>\n      <td>Avalanche</td>\n      <td>Below North Col</td>\n    </tr>\n    <tr>\n      <th>5</th>\n      <td>Pema</td>\n      <td>June 7, 1922</td>\n      <td>NaN</td>\n      <td>1922 British Mount Everest Expedition</td>\n      <td>Nepal</td>\n      <td>Avalanche</td>\n      <td>Below North Col</td>\n    </tr>\n    <tr>\n      <th>...</th>\n      <td>...</td>\n      <td>...</td>\n      <td>...</td>\n      <td>...</td>\n      <td>...</td>\n      <td>...</td>\n      <td>...</td>\n    </tr>\n    <tr>\n      <th>306</th>\n      <td>Christopher Jon Kulish</td>\n      <td>May 27, 2019</td>\n      <td>62.0</td>\n      <td>Climbing the Seven Summits</td>\n      <td>United States</td>\n      <td>Cardiac event during descent</td>\n      <td>South Col</td>\n    </tr>\n    <tr>\n      <th>307</th>\n      <td>Puwei Liu</td>\n      <td>May 12, 2021</td>\n      <td>55.0</td>\n      <td>Seven Summit Treks</td>\n      <td>United States</td>\n      <td>Exhaustion</td>\n      <td>Near South Summit</td>\n    </tr>\n    <tr>\n      <th>308</th>\n      <td>Abdul Waraich</td>\n      <td>May 12, 2021</td>\n      <td>41.0</td>\n      <td>Seven Summit Treks</td>\n      <td>Switzerland</td>\n      <td>Exhaustion</td>\n      <td>Near South Summit</td>\n    </tr>\n    <tr>\n      <th>309</th>\n      <td>Pemba Tashi Sherpa</td>\n      <td>May 18, 2021</td>\n      <td>28.0</td>\n      <td>Climbing the Seven Summits</td>\n      <td>Nepal</td>\n      <td>Fall into a crevasse</td>\n      <td>Between Camp I &amp; Camp II</td>\n    </tr>\n    <tr>\n      <th>310</th>\n      <td>Wong Dorchi Sherpa</td>\n      <td>May 23, 2021</td>\n      <td>NaN</td>\n      <td>7 Summits Club</td>\n      <td>Nepal</td>\n      <td>NaN</td>\n      <td>near South Col</td>\n    </tr>\n  </tbody>\n</table>\n<p>310 rows × 7 columns</p>\n</div>"
     },
     "execution_count": 14,
     "metadata": {},
     "output_type": "execute_result"
    }
   ],
   "source": [
    "mount"
   ],
   "metadata": {
    "collapsed": false,
    "ExecuteTime": {
     "end_time": "2025-08-30T18:42:09.133735Z",
     "start_time": "2025-08-30T18:42:09.130549Z"
    }
   }
  },
  {
   "cell_type": "code",
   "execution_count": 15,
   "outputs": [
    {
     "name": "stdout",
     "output_type": "stream",
     "text": [
      "<class 'pandas.core.frame.DataFrame'>\n",
      "Index: 310 entries, 1 to 310\n",
      "Data columns (total 7 columns):\n",
      " #   Column          Non-Null Count  Dtype  \n",
      "---  ------          --------------  -----  \n",
      " 0   Name            310 non-null    object \n",
      " 1   Date            310 non-null    object \n",
      " 2   Age             160 non-null    float64\n",
      " 3   Expedition      271 non-null    object \n",
      " 4   Nationality     309 non-null    object \n",
      " 5   Cause of death  296 non-null    object \n",
      " 6   Location        291 non-null    object \n",
      "dtypes: float64(1), object(6)\n",
      "memory usage: 19.4+ KB\n"
     ]
    }
   ],
   "source": [
    "mount.info()"
   ],
   "metadata": {
    "collapsed": false,
    "ExecuteTime": {
     "end_time": "2025-08-30T18:42:30.130356Z",
     "start_time": "2025-08-30T18:42:30.129959Z"
    }
   }
  },
  {
   "cell_type": "code",
   "execution_count": 17,
   "outputs": [],
   "source": [
    "movie_title = pd.read_csv(\"../../colt-data/data/movie_titles.tsv\")"
   ],
   "metadata": {
    "collapsed": false,
    "ExecuteTime": {
     "end_time": "2025-08-30T18:43:46.643797Z",
     "start_time": "2025-08-30T18:43:46.639842Z"
    }
   }
  },
  {
   "cell_type": "code",
   "execution_count": 18,
   "outputs": [
    {
     "data": {
      "text/plain": "    m0\\t10 things i hate about you\\t1999\\t6.90\\t62847\\t['comedy' 'romance']\n0    m1\\t1492: conquest of paradise\\t1992\\t6.20\\t10...                     \n1    m2\\t15 minutes\\t2001\\t6.10\\t25854\\t['action' '...                     \n2    m3\\t2001: a space odyssey\\t1968\\t8.40\\t163227\\...                     \n3    m4\\t48 hrs.\\t1982\\t6.90\\t22289\\t['action' 'com...                     \n4    m5\\tthe fifth element\\t1997\\t7.50\\t133756\\t['a...                     \n..                                                 ...                     \n611  m612\\twatchmen\\t2009\\t7.80\\t135229\\t['action' ...                     \n612  m613\\txxx\\t2002\\t5.60\\t53505\\t['action' 'adven...                     \n613  m614\\tx-men\\t2000\\t7.40\\t122149\\t['action' 'sc...                     \n614  m615\\tyoung frankenstein\\t1974\\t8.00\\t57618\\t[...                     \n615  m616\\tzulu dawn\\t1979\\t6.40\\t1911\\t['action' '...                     \n\n[616 rows x 1 columns]",
      "text/html": "<div>\n<style scoped>\n    .dataframe tbody tr th:only-of-type {\n        vertical-align: middle;\n    }\n\n    .dataframe tbody tr th {\n        vertical-align: top;\n    }\n\n    .dataframe thead th {\n        text-align: right;\n    }\n</style>\n<table border=\"1\" class=\"dataframe\">\n  <thead>\n    <tr style=\"text-align: right;\">\n      <th></th>\n      <th>m0\\t10 things i hate about you\\t1999\\t6.90\\t62847\\t['comedy' 'romance']</th>\n    </tr>\n  </thead>\n  <tbody>\n    <tr>\n      <th>0</th>\n      <td>m1\\t1492: conquest of paradise\\t1992\\t6.20\\t10...</td>\n    </tr>\n    <tr>\n      <th>1</th>\n      <td>m2\\t15 minutes\\t2001\\t6.10\\t25854\\t['action' '...</td>\n    </tr>\n    <tr>\n      <th>2</th>\n      <td>m3\\t2001: a space odyssey\\t1968\\t8.40\\t163227\\...</td>\n    </tr>\n    <tr>\n      <th>3</th>\n      <td>m4\\t48 hrs.\\t1982\\t6.90\\t22289\\t['action' 'com...</td>\n    </tr>\n    <tr>\n      <th>4</th>\n      <td>m5\\tthe fifth element\\t1997\\t7.50\\t133756\\t['a...</td>\n    </tr>\n    <tr>\n      <th>...</th>\n      <td>...</td>\n    </tr>\n    <tr>\n      <th>611</th>\n      <td>m612\\twatchmen\\t2009\\t7.80\\t135229\\t['action' ...</td>\n    </tr>\n    <tr>\n      <th>612</th>\n      <td>m613\\txxx\\t2002\\t5.60\\t53505\\t['action' 'adven...</td>\n    </tr>\n    <tr>\n      <th>613</th>\n      <td>m614\\tx-men\\t2000\\t7.40\\t122149\\t['action' 'sc...</td>\n    </tr>\n    <tr>\n      <th>614</th>\n      <td>m615\\tyoung frankenstein\\t1974\\t8.00\\t57618\\t[...</td>\n    </tr>\n    <tr>\n      <th>615</th>\n      <td>m616\\tzulu dawn\\t1979\\t6.40\\t1911\\t['action' '...</td>\n    </tr>\n  </tbody>\n</table>\n<p>616 rows × 1 columns</p>\n</div>"
     },
     "execution_count": 18,
     "metadata": {},
     "output_type": "execute_result"
    }
   ],
   "source": [
    "movie_title"
   ],
   "metadata": {
    "collapsed": false,
    "ExecuteTime": {
     "end_time": "2025-08-30T18:43:50.570265Z",
     "start_time": "2025-08-30T18:43:50.560431Z"
    }
   }
  },
  {
   "cell_type": "code",
   "execution_count": null,
   "outputs": [],
   "source": [],
   "metadata": {
    "collapsed": false
   }
  }
 ],
 "metadata": {
  "kernelspec": {
   "display_name": "Python 3",
   "language": "python",
   "name": "python3"
  },
  "language_info": {
   "codemirror_mode": {
    "name": "ipython",
    "version": 2
   },
   "file_extension": ".py",
   "mimetype": "text/x-python",
   "name": "python",
   "nbconvert_exporter": "python",
   "pygments_lexer": "ipython2",
   "version": "2.7.6"
  }
 },
 "nbformat": 4,
 "nbformat_minor": 0
}
