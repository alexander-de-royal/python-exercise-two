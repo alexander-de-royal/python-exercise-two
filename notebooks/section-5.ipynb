{
 "cells": [
  {
   "cell_type": "code",
   "execution_count": 1,
   "metadata": {
    "collapsed": true,
    "ExecuteTime": {
     "end_time": "2025-08-20T12:35:24.349994Z",
     "start_time": "2025-08-20T12:35:24.286973Z"
    }
   },
   "outputs": [],
   "source": [
    "import numpy as np"
   ]
  },
  {
   "cell_type": "code",
   "execution_count": 2,
   "outputs": [],
   "source": [
    "import pandas as pd"
   ],
   "metadata": {
    "collapsed": false,
    "ExecuteTime": {
     "end_time": "2025-08-20T12:35:31.983558Z",
     "start_time": "2025-08-20T12:35:31.638391Z"
    }
   }
  },
  {
   "cell_type": "code",
   "execution_count": 3,
   "outputs": [],
   "source": [
    "data = [-4453,\n",
    "-2827,\n",
    "-2258,\n",
    "-1086,\n",
    "-1021,\n",
    "-795,\n",
    "-732,\n",
    "-617,\n",
    "-578,\n",
    "-404,\n",
    "-387,\n",
    "-273,\n",
    "-142,\n",
    "17,\n",
    "20,\n",
    "63,\n",
    "73,\n",
    "97,\n",
    "97,\n",
    "184,\n",
    "258,\n",
    "308,\n",
    "311,\n",
    "368,\n",
    "423,\n",
    "454,\n",
    "454,\n",
    "460,\n",
    "505,\n",
    "535,\n",
    "601,\n",
    "709,\n",
    "755,\n",
    "939,\n",
    "942,\n",
    "1080,\n",
    "1154,\n",
    "1293,\n",
    "1294,\n",
    "1403,\n",
    "1461,\n",
    "1484,\n",
    "1567,\n",
    "1681,\n",
    "1773,\n",
    "1920,\n",
    "2056,\n",
    "2636,\n",
    "3006,\n",
    "5600]"
   ],
   "metadata": {
    "collapsed": false,
    "ExecuteTime": {
     "end_time": "2025-08-20T12:36:07.913063Z",
     "start_time": "2025-08-20T12:36:07.908387Z"
    }
   }
  },
  {
   "cell_type": "code",
   "execution_count": 4,
   "outputs": [],
   "source": [
    "series = pd.Series(data)"
   ],
   "metadata": {
    "collapsed": false,
    "ExecuteTime": {
     "end_time": "2025-08-20T12:36:19.965180Z",
     "start_time": "2025-08-20T12:36:19.961118Z"
    }
   }
  },
  {
   "cell_type": "code",
   "execution_count": 5,
   "outputs": [],
   "source": [
    "n = len(series)"
   ],
   "metadata": {
    "collapsed": false,
    "ExecuteTime": {
     "end_time": "2025-08-20T12:36:30.946215Z",
     "start_time": "2025-08-20T12:36:30.941553Z"
    }
   }
  },
  {
   "cell_type": "code",
   "execution_count": 6,
   "outputs": [],
   "source": [
    "k = int(np.ceil(1 + 3.32 * np.log10(n)))"
   ],
   "metadata": {
    "collapsed": false,
    "ExecuteTime": {
     "end_time": "2025-08-20T12:37:05.870082Z",
     "start_time": "2025-08-20T12:37:05.864906Z"
    }
   }
  },
  {
   "cell_type": "code",
   "execution_count": 7,
   "outputs": [
    {
     "name": "stdout",
     "output_type": "stream",
     "text": [
      "Number of classes: 7\n"
     ]
    }
   ],
   "source": [
    "print(\"Number of classes:\", k)"
   ],
   "metadata": {
    "collapsed": false,
    "ExecuteTime": {
     "end_time": "2025-08-20T12:37:23.068765Z",
     "start_time": "2025-08-20T12:37:23.063681Z"
    }
   }
  },
  {
   "cell_type": "code",
   "execution_count": 8,
   "outputs": [],
   "source": [
    "data_range = series.max() - series.min()"
   ],
   "metadata": {
    "collapsed": false,
    "ExecuteTime": {
     "end_time": "2025-08-20T12:37:45.109329Z",
     "start_time": "2025-08-20T12:37:45.105577Z"
    }
   }
  },
  {
   "cell_type": "code",
   "execution_count": 9,
   "outputs": [],
   "source": [
    "class_width = int(np.ceil(data_range/k))"
   ],
   "metadata": {
    "collapsed": false,
    "ExecuteTime": {
     "end_time": "2025-08-20T12:38:14.862628Z",
     "start_time": "2025-08-20T12:38:14.858084Z"
    }
   }
  },
  {
   "cell_type": "code",
   "execution_count": 10,
   "outputs": [
    {
     "name": "stdout",
     "output_type": "stream",
     "text": [
      "Class Width: 1437\n"
     ]
    }
   ],
   "source": [
    "print(\"Class Width:\", class_width)"
   ],
   "metadata": {
    "collapsed": false,
    "ExecuteTime": {
     "end_time": "2025-08-20T12:38:27.317064Z",
     "start_time": "2025-08-20T12:38:27.311797Z"
    }
   }
  },
  {
   "cell_type": "code",
   "execution_count": 11,
   "outputs": [],
   "source": [
    "bins = np.arange(series.min(), series.max() + class_width, class_width)"
   ],
   "metadata": {
    "collapsed": false,
    "ExecuteTime": {
     "end_time": "2025-08-20T12:39:14.564167Z",
     "start_time": "2025-08-20T12:39:14.554140Z"
    }
   }
  },
  {
   "cell_type": "code",
   "execution_count": 12,
   "outputs": [],
   "source": [
    "freq_table = pd.cut(series, bins=bins).value_counts().sort_index()"
   ],
   "metadata": {
    "collapsed": false,
    "ExecuteTime": {
     "end_time": "2025-08-20T12:39:54.108721Z",
     "start_time": "2025-08-20T12:39:54.103082Z"
    }
   }
  },
  {
   "cell_type": "code",
   "execution_count": 13,
   "outputs": [
    {
     "name": "stdout",
     "output_type": "stream",
     "text": [
      "\n",
      "Frequency Table:\n"
     ]
    }
   ],
   "source": [
    "print(\"\\nFrequency Table:\")"
   ],
   "metadata": {
    "collapsed": false,
    "ExecuteTime": {
     "end_time": "2025-08-20T12:40:23.409233Z",
     "start_time": "2025-08-20T12:40:23.404293Z"
    }
   }
  },
  {
   "cell_type": "code",
   "execution_count": 15,
   "outputs": [
    {
     "name": "stdout",
     "output_type": "stream",
     "text": [
      "(-4453, -3016]: 0\n",
      "(-3016, -1579]: 2\n",
      "(-1579, -142]: 10\n",
      "(-142, 1295]: 26\n",
      "(1295, 2732]: 9\n",
      "(2732, 4169]: 1\n",
      "(4169, 5606]: 1\n"
     ]
    }
   ],
   "source": [
    "for interval, freq in freq_table.items():\n",
    "    print(f\"{interval}: {freq}\")"
   ],
   "metadata": {
    "collapsed": false,
    "ExecuteTime": {
     "end_time": "2025-08-20T12:41:06.009221Z",
     "start_time": "2025-08-20T12:41:06.002130Z"
    }
   }
  },
  {
   "cell_type": "code",
   "execution_count": 16,
   "outputs": [],
   "source": [
    "class_width = 1400"
   ],
   "metadata": {
    "collapsed": false,
    "ExecuteTime": {
     "end_time": "2025-08-20T12:42:13.915990Z",
     "start_time": "2025-08-20T12:42:13.911503Z"
    }
   }
  },
  {
   "cell_type": "code",
   "execution_count": 17,
   "outputs": [],
   "source": [
    "bins = np.arange(series.min(), series.max() + class_width, class_width)"
   ],
   "metadata": {
    "collapsed": false,
    "ExecuteTime": {
     "end_time": "2025-08-20T12:44:39.671483Z",
     "start_time": "2025-08-20T12:44:39.666174Z"
    }
   }
  },
  {
   "cell_type": "code",
   "execution_count": 18,
   "outputs": [],
   "source": [
    "freq_table = pd.cut(series, bins=bins).value_counts().sort_index()"
   ],
   "metadata": {
    "collapsed": false,
    "ExecuteTime": {
     "end_time": "2025-08-20T12:45:14.794973Z",
     "start_time": "2025-08-20T12:45:14.789405Z"
    }
   }
  },
  {
   "cell_type": "code",
   "execution_count": 19,
   "outputs": [
    {
     "name": "stdout",
     "output_type": "stream",
     "text": [
      "\\Frequency Table:\n",
      "(-4453, -3053]: 0\n",
      "(-3053, -1653]: 2\n",
      "(-1653, -253]: 9\n",
      "(-253, 1147]: 24\n",
      "(1147, 2547]: 11\n",
      "(2547, 3947]: 2\n",
      "(3947, 5347]: 0\n",
      "(5347, 6747]: 1\n"
     ]
    }
   ],
   "source": [
    "print(\"\\Frequency Table:\")\n",
    "for interval, freq in freq_table.items():\n",
    "    print(f\"{interval}: {freq}\")"
   ],
   "metadata": {
    "collapsed": false,
    "ExecuteTime": {
     "end_time": "2025-08-20T12:46:11.321941Z",
     "start_time": "2025-08-20T12:46:11.311098Z"
    }
   }
  },
  {
   "cell_type": "code",
   "execution_count": null,
   "outputs": [],
   "source": [],
   "metadata": {
    "collapsed": false
   }
  }
 ],
 "metadata": {
  "kernelspec": {
   "display_name": "Python 3",
   "language": "python",
   "name": "python3"
  },
  "language_info": {
   "codemirror_mode": {
    "name": "ipython",
    "version": 2
   },
   "file_extension": ".py",
   "mimetype": "text/x-python",
   "name": "python",
   "nbconvert_exporter": "python",
   "pygments_lexer": "ipython2",
   "version": "2.7.6"
  }
 },
 "nbformat": 4,
 "nbformat_minor": 0
}
