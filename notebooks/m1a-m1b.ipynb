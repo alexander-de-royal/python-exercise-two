{
 "cells": [
  {
   "cell_type": "code",
   "execution_count": 1,
   "metadata": {
    "collapsed": true,
    "ExecuteTime": {
     "end_time": "2025-08-20T12:35:24.349994Z",
     "start_time": "2025-08-20T12:35:24.286973Z"
    }
   },
   "outputs": [],
   "source": [
    "import numpy as np"
   ]
  },
  {
   "cell_type": "code",
   "execution_count": 2,
   "outputs": [],
   "source": [
    "import pandas as pd"
   ],
   "metadata": {
    "collapsed": false,
    "ExecuteTime": {
     "end_time": "2025-08-20T12:35:31.983558Z",
     "start_time": "2025-08-20T12:35:31.638391Z"
    }
   }
  },
  {
   "cell_type": "code",
   "execution_count": 3,
   "outputs": [],
   "source": [
    "data = [-4453,\n",
    "-2827,\n",
    "-2258,\n",
    "-1086,\n",
    "-1021,\n",
    "-795,\n",
    "-732,\n",
    "-617,\n",
    "-578,\n",
    "-404,\n",
    "-387,\n",
    "-273,\n",
    "-142,\n",
    "17,\n",
    "20,\n",
    "63,\n",
    "73,\n",
    "97,\n",
    "97,\n",
    "184,\n",
    "258,\n",
    "308,\n",
    "311,\n",
    "368,\n",
    "423,\n",
    "454,\n",
    "454,\n",
    "460,\n",
    "505,\n",
    "535,\n",
    "601,\n",
    "709,\n",
    "755,\n",
    "939,\n",
    "942,\n",
    "1080,\n",
    "1154,\n",
    "1293,\n",
    "1294,\n",
    "1403,\n",
    "1461,\n",
    "1484,\n",
    "1567,\n",
    "1681,\n",
    "1773,\n",
    "1920,\n",
    "2056,\n",
    "2636,\n",
    "3006,\n",
    "5600]"
   ],
   "metadata": {
    "collapsed": false,
    "ExecuteTime": {
     "end_time": "2025-08-20T12:36:07.913063Z",
     "start_time": "2025-08-20T12:36:07.908387Z"
    }
   }
  },
  {
   "cell_type": "code",
   "execution_count": 4,
   "outputs": [],
   "source": [
    "series = pd.Series(data)"
   ],
   "metadata": {
    "collapsed": false,
    "ExecuteTime": {
     "end_time": "2025-08-20T12:36:19.965180Z",
     "start_time": "2025-08-20T12:36:19.961118Z"
    }
   }
  },
  {
   "cell_type": "code",
   "execution_count": 5,
   "outputs": [],
   "source": [
    "n = len(series)"
   ],
   "metadata": {
    "collapsed": false,
    "ExecuteTime": {
     "end_time": "2025-08-20T12:36:30.946215Z",
     "start_time": "2025-08-20T12:36:30.941553Z"
    }
   }
  },
  {
   "cell_type": "code",
   "execution_count": 6,
   "outputs": [],
   "source": [
    "k = int(np.ceil(1 + 3.32 * np.log10(n)))"
   ],
   "metadata": {
    "collapsed": false,
    "ExecuteTime": {
     "end_time": "2025-08-20T12:37:05.870082Z",
     "start_time": "2025-08-20T12:37:05.864906Z"
    }
   }
  },
  {
   "cell_type": "code",
   "execution_count": 7,
   "outputs": [
    {
     "name": "stdout",
     "output_type": "stream",
     "text": [
      "Number of classes: 7\n"
     ]
    }
   ],
   "source": [
    "print(\"Number of classes:\", k)"
   ],
   "metadata": {
    "collapsed": false,
    "ExecuteTime": {
     "end_time": "2025-08-20T12:37:23.068765Z",
     "start_time": "2025-08-20T12:37:23.063681Z"
    }
   }
  },
  {
   "cell_type": "code",
   "execution_count": 8,
   "outputs": [],
   "source": [
    "data_range = series.max() - series.min()"
   ],
   "metadata": {
    "collapsed": false,
    "ExecuteTime": {
     "end_time": "2025-08-20T12:37:45.109329Z",
     "start_time": "2025-08-20T12:37:45.105577Z"
    }
   }
  },
  {
   "cell_type": "code",
   "execution_count": 9,
   "outputs": [],
   "source": [
    "class_width = int(np.ceil(data_range/k))"
   ],
   "metadata": {
    "collapsed": false,
    "ExecuteTime": {
     "end_time": "2025-08-20T12:38:14.862628Z",
     "start_time": "2025-08-20T12:38:14.858084Z"
    }
   }
  },
  {
   "cell_type": "code",
   "execution_count": 10,
   "outputs": [
    {
     "name": "stdout",
     "output_type": "stream",
     "text": [
      "Class Width: 1437\n"
     ]
    }
   ],
   "source": [
    "print(\"Class Width:\", class_width)"
   ],
   "metadata": {
    "collapsed": false,
    "ExecuteTime": {
     "end_time": "2025-08-20T12:38:27.317064Z",
     "start_time": "2025-08-20T12:38:27.311797Z"
    }
   }
  },
  {
   "cell_type": "code",
   "execution_count": 11,
   "outputs": [],
   "source": [
    "bins = np.arange(series.min(), series.max() + class_width, class_width)"
   ],
   "metadata": {
    "collapsed": false,
    "ExecuteTime": {
     "end_time": "2025-08-20T12:39:14.564167Z",
     "start_time": "2025-08-20T12:39:14.554140Z"
    }
   }
  },
  {
   "cell_type": "code",
   "execution_count": 12,
   "outputs": [],
   "source": [
    "freq_table = pd.cut(series, bins=bins).value_counts().sort_index()"
   ],
   "metadata": {
    "collapsed": false,
    "ExecuteTime": {
     "end_time": "2025-08-20T12:39:54.108721Z",
     "start_time": "2025-08-20T12:39:54.103082Z"
    }
   }
  },
  {
   "cell_type": "code",
   "execution_count": 13,
   "outputs": [
    {
     "name": "stdout",
     "output_type": "stream",
     "text": [
      "\n",
      "Frequency Table:\n"
     ]
    }
   ],
   "source": [
    "print(\"\\nFrequency Table:\")"
   ],
   "metadata": {
    "collapsed": false,
    "ExecuteTime": {
     "end_time": "2025-08-20T12:40:23.409233Z",
     "start_time": "2025-08-20T12:40:23.404293Z"
    }
   }
  },
  {
   "cell_type": "code",
   "execution_count": 15,
   "outputs": [
    {
     "name": "stdout",
     "output_type": "stream",
     "text": [
      "(-4453, -3016]: 0\n",
      "(-3016, -1579]: 2\n",
      "(-1579, -142]: 10\n",
      "(-142, 1295]: 26\n",
      "(1295, 2732]: 9\n",
      "(2732, 4169]: 1\n",
      "(4169, 5606]: 1\n"
     ]
    }
   ],
   "source": [
    "for interval, freq in freq_table.items():\n",
    "    print(f\"{interval}: {freq}\")"
   ],
   "metadata": {
    "collapsed": false,
    "ExecuteTime": {
     "end_time": "2025-08-20T12:41:06.009221Z",
     "start_time": "2025-08-20T12:41:06.002130Z"
    }
   }
  },
  {
   "cell_type": "code",
   "execution_count": 16,
   "outputs": [],
   "source": [
    "class_width = 1400"
   ],
   "metadata": {
    "collapsed": false,
    "ExecuteTime": {
     "end_time": "2025-08-20T12:42:13.915990Z",
     "start_time": "2025-08-20T12:42:13.911503Z"
    }
   }
  },
  {
   "cell_type": "code",
   "execution_count": 17,
   "outputs": [],
   "source": [
    "bins = np.arange(series.min(), series.max() + class_width, class_width)"
   ],
   "metadata": {
    "collapsed": false,
    "ExecuteTime": {
     "end_time": "2025-08-20T12:44:39.671483Z",
     "start_time": "2025-08-20T12:44:39.666174Z"
    }
   }
  },
  {
   "cell_type": "code",
   "execution_count": 18,
   "outputs": [],
   "source": [
    "freq_table = pd.cut(series, bins=bins).value_counts().sort_index()"
   ],
   "metadata": {
    "collapsed": false,
    "ExecuteTime": {
     "end_time": "2025-08-20T12:45:14.794973Z",
     "start_time": "2025-08-20T12:45:14.789405Z"
    }
   }
  },
  {
   "cell_type": "code",
   "execution_count": 19,
   "outputs": [
    {
     "name": "stdout",
     "output_type": "stream",
     "text": [
      "\\Frequency Table:\n",
      "(-4453, -3053]: 0\n",
      "(-3053, -1653]: 2\n",
      "(-1653, -253]: 9\n",
      "(-253, 1147]: 24\n",
      "(1147, 2547]: 11\n",
      "(2547, 3947]: 2\n",
      "(3947, 5347]: 0\n",
      "(5347, 6747]: 1\n"
     ]
    }
   ],
   "source": [
    "print(\"\\Frequency Table:\")\n",
    "for interval, freq in freq_table.items():\n",
    "    print(f\"{interval}: {freq}\")"
   ],
   "metadata": {
    "collapsed": false,
    "ExecuteTime": {
     "end_time": "2025-08-20T12:46:11.321941Z",
     "start_time": "2025-08-20T12:46:11.311098Z"
    }
   }
  },
  {
   "cell_type": "code",
   "execution_count": 20,
   "outputs": [],
   "source": [
    "import numpy as np"
   ],
   "metadata": {
    "collapsed": false,
    "ExecuteTime": {
     "end_time": "2025-08-20T13:35:29.822404Z",
     "start_time": "2025-08-20T13:35:29.815533Z"
    }
   }
  },
  {
   "cell_type": "code",
   "execution_count": 21,
   "outputs": [],
   "source": [
    "data = [\n",
    "    -4453, -2827, -2258, -1086, -1021, -795, -732, -617, -578, -404,\n",
    "    -387, -273, -142, 17, 20, 63, 73, 97, 97, 184,\n",
    "    258, 308, 311, 368, 423, 454, 454, 460, 505, 535,\n",
    "    601, 709, 755, 939, 942, 1080, 1154, 1293, 1294, 1403,\n",
    "    1461, 1484, 1567, 1681, 1773, 1920, 2056, 2636, 3006, 5600\n",
    "]"
   ],
   "metadata": {
    "collapsed": false,
    "ExecuteTime": {
     "end_time": "2025-08-20T13:35:40.966314Z",
     "start_time": "2025-08-20T13:35:40.954665Z"
    }
   }
  },
  {
   "cell_type": "code",
   "execution_count": 22,
   "outputs": [],
   "source": [
    "mean_value = np.mean(data)"
   ],
   "metadata": {
    "collapsed": false,
    "ExecuteTime": {
     "end_time": "2025-08-20T13:35:51.669332Z",
     "start_time": "2025-08-20T13:35:51.663954Z"
    }
   }
  },
  {
   "cell_type": "code",
   "execution_count": 23,
   "outputs": [],
   "source": [
    "media_value = np.median(data)"
   ],
   "metadata": {
    "collapsed": false,
    "ExecuteTime": {
     "end_time": "2025-08-20T13:36:01.726263Z",
     "start_time": "2025-08-20T13:36:01.716298Z"
    }
   }
  },
  {
   "cell_type": "code",
   "execution_count": 24,
   "outputs": [
    {
     "name": "stdout",
     "output_type": "stream",
     "text": [
      "Mean: 448.16\n",
      "Median: 438.5\n"
     ]
    }
   ],
   "source": [
    "print(\"Mean:\", mean_value)\n",
    "print(\"Median:\", media_value)"
   ],
   "metadata": {
    "collapsed": false,
    "ExecuteTime": {
     "end_time": "2025-08-20T13:36:27.970211Z",
     "start_time": "2025-08-20T13:36:27.965110Z"
    }
   }
  },
  {
   "cell_type": "code",
   "execution_count": 25,
   "outputs": [
    {
     "name": "stdout",
     "output_type": "stream",
     "text": [
      "20th percentile: -390.4\n"
     ]
    }
   ],
   "source": [
    "percentile_20 = np.percentile(data,20)\n",
    "print(\"20th percentile:\", percentile_20)"
   ],
   "metadata": {
    "collapsed": false,
    "ExecuteTime": {
     "end_time": "2025-08-20T13:52:56.974645Z",
     "start_time": "2025-08-20T13:52:56.964423Z"
    }
   }
  },
  {
   "cell_type": "code",
   "execution_count": 26,
   "outputs": [
    {
     "ename": "ModuleNotFoundError",
     "evalue": "No module named 'scipy'",
     "output_type": "error",
     "traceback": [
      "\u001B[0;31m---------------------------------------------------------------------------\u001B[0m",
      "\u001B[0;31mModuleNotFoundError\u001B[0m                       Traceback (most recent call last)",
      "Cell \u001B[0;32mIn[26], line 1\u001B[0m\n\u001B[0;32m----> 1\u001B[0m \u001B[38;5;28;01mimport\u001B[39;00m\u001B[38;5;250m \u001B[39m\u001B[38;5;21;01mscipy\u001B[39;00m\u001B[38;5;21;01m.\u001B[39;00m\u001B[38;5;21;01mstats\u001B[39;00m\u001B[38;5;250m \u001B[39m\u001B[38;5;28;01mas\u001B[39;00m\u001B[38;5;250m \u001B[39m\u001B[38;5;21;01mstats\u001B[39;00m\n",
      "\u001B[0;31mModuleNotFoundError\u001B[0m: No module named 'scipy'"
     ]
    }
   ],
   "source": [
    "import scipy.stats as stats"
   ],
   "metadata": {
    "collapsed": false,
    "ExecuteTime": {
     "end_time": "2025-08-21T14:09:32.880369Z",
     "start_time": "2025-08-21T14:09:32.698224Z"
    }
   }
  },
  {
   "cell_type": "code",
   "execution_count": 27,
   "outputs": [
    {
     "name": "stdout",
     "output_type": "stream",
     "text": [
      "Collecting scipy\r\n",
      "  Downloading scipy-1.13.1-cp39-cp39-macosx_12_0_arm64.whl (30.3 MB)\r\n",
      "\u001B[2K     \u001B[90m━━━━━━━━━━━━━━━━━━━━━━━━━━━━━━━━━━━━━━━━\u001B[0m \u001B[32m30.3/30.3 MB\u001B[0m \u001B[31m27.2 MB/s\u001B[0m eta \u001B[36m0:00:00\u001B[0m00:01\u001B[0m00:01\u001B[0m\r\n",
      "\u001B[?25hRequirement already satisfied: numpy<2.3,>=1.22.4 in /Users/alexanderroyal/PycharmProjects/pythonProject/venv/lib/python3.9/site-packages (from scipy) (2.0.2)\r\n",
      "Installing collected packages: scipy\r\n",
      "Successfully installed scipy-1.13.1\r\n",
      "\r\n",
      "\u001B[1m[\u001B[0m\u001B[34;49mnotice\u001B[0m\u001B[1;39;49m]\u001B[0m\u001B[39;49m A new release of pip available: \u001B[0m\u001B[31;49m22.3.1\u001B[0m\u001B[39;49m -> \u001B[0m\u001B[32;49m25.2\u001B[0m\r\n",
      "\u001B[1m[\u001B[0m\u001B[34;49mnotice\u001B[0m\u001B[1;39;49m]\u001B[0m\u001B[39;49m To update, run: \u001B[0m\u001B[32;49mpip install --upgrade pip\u001B[0m\r\n"
     ]
    }
   ],
   "source": [
    "!pip install scipy"
   ],
   "metadata": {
    "collapsed": false,
    "ExecuteTime": {
     "end_time": "2025-08-21T14:10:57.835893Z",
     "start_time": "2025-08-21T14:10:52.826735Z"
    }
   }
  },
  {
   "cell_type": "code",
   "execution_count": 28,
   "outputs": [
    {
     "name": "stdout",
     "output_type": "stream",
     "text": [
      "\u001B[31mERROR: You must give at least one requirement to install (see \"pip help install\")\u001B[0m\u001B[31m\r\n",
      "\u001B[0m\r\n",
      "\u001B[1m[\u001B[0m\u001B[34;49mnotice\u001B[0m\u001B[1;39;49m]\u001B[0m\u001B[39;49m A new release of pip available: \u001B[0m\u001B[31;49m22.3.1\u001B[0m\u001B[39;49m -> \u001B[0m\u001B[32;49m25.2\u001B[0m\r\n",
      "\u001B[1m[\u001B[0m\u001B[34;49mnotice\u001B[0m\u001B[1;39;49m]\u001B[0m\u001B[39;49m To update, run: \u001B[0m\u001B[32;49mpip install --upgrade pip\u001B[0m\r\n",
      "Note: you may need to restart the kernel to use updated packages.\n"
     ]
    }
   ],
   "source": [
    "pip install"
   ],
   "metadata": {
    "collapsed": false,
    "ExecuteTime": {
     "end_time": "2025-08-21T14:11:28.280792Z",
     "start_time": "2025-08-21T14:11:27.875239Z"
    }
   }
  },
  {
   "cell_type": "code",
   "execution_count": 29,
   "outputs": [],
   "source": [
    "import sys"
   ],
   "metadata": {
    "collapsed": false,
    "ExecuteTime": {
     "end_time": "2025-08-21T14:12:08.962197Z",
     "start_time": "2025-08-21T14:12:08.951057Z"
    }
   }
  },
  {
   "cell_type": "code",
   "execution_count": 30,
   "outputs": [
    {
     "ename": "NameError",
     "evalue": "name 'scipy' is not defined",
     "output_type": "error",
     "traceback": [
      "\u001B[0;31m---------------------------------------------------------------------------\u001B[0m",
      "\u001B[0;31mNameError\u001B[0m                                 Traceback (most recent call last)",
      "Cell \u001B[0;32mIn[30], line 1\u001B[0m\n\u001B[0;32m----> 1\u001B[0m \u001B[38;5;28mprint\u001B[39m(\u001B[43mscipy\u001B[49m\u001B[38;5;241m.\u001B[39m_version_)\n",
      "\u001B[0;31mNameError\u001B[0m: name 'scipy' is not defined"
     ]
    }
   ],
   "source": [
    "print(scipy._version_)"
   ],
   "metadata": {
    "collapsed": false,
    "ExecuteTime": {
     "end_time": "2025-08-21T14:12:52.229170Z",
     "start_time": "2025-08-21T14:12:52.212802Z"
    }
   }
  },
  {
   "cell_type": "code",
   "execution_count": 31,
   "outputs": [
    {
     "name": "stdout",
     "output_type": "stream",
     "text": [
      "Requirement already satisfied: scipy in /Users/alexanderroyal/PycharmProjects/pythonProject/venv/lib/python3.9/site-packages (1.13.1)\r\n",
      "Requirement already satisfied: numpy<2.3,>=1.22.4 in /Users/alexanderroyal/PycharmProjects/pythonProject/venv/lib/python3.9/site-packages (from scipy) (2.0.2)\r\n",
      "\r\n",
      "\u001B[1m[\u001B[0m\u001B[34;49mnotice\u001B[0m\u001B[1;39;49m]\u001B[0m\u001B[39;49m A new release of pip available: \u001B[0m\u001B[31;49m22.3.1\u001B[0m\u001B[39;49m -> \u001B[0m\u001B[32;49m25.2\u001B[0m\r\n",
      "\u001B[1m[\u001B[0m\u001B[34;49mnotice\u001B[0m\u001B[1;39;49m]\u001B[0m\u001B[39;49m To update, run: \u001B[0m\u001B[32;49mpip install --upgrade pip\u001B[0m\r\n"
     ]
    }
   ],
   "source": [
    "!pip install scipy"
   ],
   "metadata": {
    "collapsed": false,
    "ExecuteTime": {
     "end_time": "2025-08-21T14:13:29.420700Z",
     "start_time": "2025-08-21T14:13:28.372159Z"
    }
   }
  },
  {
   "cell_type": "code",
   "execution_count": 32,
   "outputs": [],
   "source": [
    "import scipy"
   ],
   "metadata": {
    "collapsed": false,
    "ExecuteTime": {
     "end_time": "2025-08-21T14:13:53.428593Z",
     "start_time": "2025-08-21T14:13:53.423539Z"
    }
   }
  },
  {
   "cell_type": "code",
   "execution_count": 33,
   "outputs": [],
   "source": [
    "import scipy.stats as stats"
   ],
   "metadata": {
    "collapsed": false,
    "ExecuteTime": {
     "end_time": "2025-08-21T14:14:16.022042Z",
     "start_time": "2025-08-21T14:14:16.017006Z"
    }
   }
  },
  {
   "cell_type": "code",
   "execution_count": 34,
   "outputs": [],
   "source": [
    "mu = 20000"
   ],
   "metadata": {
    "collapsed": false,
    "ExecuteTime": {
     "end_time": "2025-08-21T14:14:41.214493Z",
     "start_time": "2025-08-21T14:14:41.202589Z"
    }
   }
  },
  {
   "cell_type": "code",
   "execution_count": 35,
   "outputs": [],
   "source": [
    "sigma = 6000"
   ],
   "metadata": {
    "collapsed": false,
    "ExecuteTime": {
     "end_time": "2025-08-21T14:14:49.020128Z",
     "start_time": "2025-08-21T14:14:49.009717Z"
    }
   }
  },
  {
   "cell_type": "code",
   "execution_count": 36,
   "outputs": [],
   "source": [
    "p1 = stats.norm.cdf(32000, mu, sigma) - stats.norm.cdf(14000, mu, sigma)"
   ],
   "metadata": {
    "collapsed": false,
    "ExecuteTime": {
     "end_time": "2025-08-21T14:15:33.278515Z",
     "start_time": "2025-08-21T14:15:33.263961Z"
    }
   }
  },
  {
   "cell_type": "code",
   "execution_count": 37,
   "outputs": [],
   "source": [
    "p2 = stats.norm.cdf(8000, mu, sigma)"
   ],
   "metadata": {
    "collapsed": false,
    "ExecuteTime": {
     "end_time": "2025-08-21T14:15:50.169922Z",
     "start_time": "2025-08-21T14:15:50.164951Z"
    }
   }
  },
  {
   "cell_type": "code",
   "execution_count": 38,
   "outputs": [],
   "source": [
    "p3 = stats.norm.cdf(38000, mu, sigma) - stats.norm.cdf(26000, mu, sigma)"
   ],
   "metadata": {
    "collapsed": false,
    "ExecuteTime": {
     "end_time": "2025-08-21T14:16:27.391376Z",
     "start_time": "2025-08-21T14:16:27.378792Z"
    }
   }
  },
  {
   "cell_type": "code",
   "execution_count": 39,
   "outputs": [
    {
     "name": "stdout",
     "output_type": "stream",
     "text": [
      "p1: 81.86 %\n",
      "p2: 2.28 %\n",
      "p3: 15.73 %\n"
     ]
    }
   ],
   "source": [
    "print(\"p1:\", round(p1*100, 2), \"%\")\n",
    "print(\"p2:\", round(p2*100, 2), \"%\")\n",
    "print(\"p3:\", round(p3*100, 2), \"%\")"
   ],
   "metadata": {
    "collapsed": false,
    "ExecuteTime": {
     "end_time": "2025-08-21T14:17:35.879583Z",
     "start_time": "2025-08-21T14:17:35.868350Z"
    }
   }
  },
  {
   "cell_type": "code",
   "execution_count": null,
   "outputs": [],
   "source": [],
   "metadata": {
    "collapsed": false
   }
  }
 ],
 "metadata": {
  "kernelspec": {
   "display_name": "Python 3",
   "language": "python",
   "name": "python3"
  },
  "language_info": {
   "codemirror_mode": {
    "name": "ipython",
    "version": 2
   },
   "file_extension": ".py",
   "mimetype": "text/x-python",
   "name": "python",
   "nbconvert_exporter": "python",
   "pygments_lexer": "ipython2",
   "version": "2.7.6"
  }
 },
 "nbformat": 4,
 "nbformat_minor": 0
}
